{
 "cells": [
  {
   "cell_type": "code",
   "execution_count": 17,
   "metadata": {},
   "outputs": [
    {
     "name": "stdout",
     "output_type": "stream",
     "text": [
      "Requirement already satisfied: pandas in c:\\users\\astonlille789\\appdata\\local\\programs\\python\\python39\\lib\\site-packages (1.3.2)Note: you may need to restart the kernel to use updated packages.\n",
      "Requirement already satisfied: pytz>=2017.3 in c:\\users\\astonlille789\\appdata\\local\\programs\\python\\python39\\lib\\site-packages (from pandas) (2021.1)\n",
      "Requirement already satisfied: numpy>=1.17.3 in c:\\users\\astonlille789\\appdata\\local\\programs\\python\\python39\\lib\\site-packages (from pandas) (1.21.2)\n",
      "Requirement already satisfied: python-dateutil>=2.7.3 in c:\\users\\astonlille789\\appdata\\roaming\\python\\python39\\site-packages (from pandas) (2.8.2)\n",
      "Requirement already satisfied: six>=1.5 in c:\\users\\astonlille789\\appdata\\roaming\\python\\python39\\site-packages (from python-dateutil>=2.7.3->pandas) (1.16.0)\n"
     ]
    },
    {
     "name": "stderr",
     "output_type": "stream",
     "text": [
      "WARNING: You are using pip version 21.2.3; however, version 21.3 is available.\n",
      "You should consider upgrading via the 'C:\\Users\\AstonLille789\\AppData\\Local\\Programs\\Python\\Python39\\python.exe -m pip install --upgrade pip' command.\n"
     ]
    },
    {
     "name": "stdout",
     "output_type": "stream",
     "text": [
      "\n"
     ]
    }
   ],
   "source": [
    " pip install pandas "
   ]
  },
  {
   "cell_type": "code",
   "execution_count": 18,
   "metadata": {},
   "outputs": [
    {
     "name": "stdout",
     "output_type": "stream",
     "text": [
      "Requirement already satisfied: bsa in c:\\users\\astonlille789\\appdata\\local\\programs\\python\\python39\\lib\\site-packages (0.1.0)Note: you may need to restart the kernel to use updated packages.\n",
      "\n"
     ]
    },
    {
     "name": "stderr",
     "output_type": "stream",
     "text": [
      "WARNING: You are using pip version 21.2.3; however, version 21.3 is available.\n",
      "You should consider upgrading via the 'C:\\Users\\AstonLille789\\AppData\\Local\\Programs\\Python\\Python39\\python.exe -m pip install --upgrade pip' command.\n"
     ]
    }
   ],
   "source": [
    "pip install bsa"
   ]
  },
  {
   "cell_type": "code",
   "execution_count": 19,
   "metadata": {},
   "outputs": [
    {
     "name": "stdout",
     "output_type": "stream",
     "text": [
      "Requirement already satisfied: requests in c:\\users\\astonlille789\\appdata\\local\\programs\\python\\python39\\lib\\site-packages (2.26.0)\n",
      "Requirement already satisfied: certifi>=2017.4.17 in c:\\users\\astonlille789\\appdata\\local\\programs\\python\\python39\\lib\\site-packages (from requests) (2021.5.30)\n",
      "Requirement already satisfied: urllib3<1.27,>=1.21.1 in c:\\users\\astonlille789\\appdata\\local\\programs\\python\\python39\\lib\\site-packages (from requests) (1.26.6)\n",
      "Requirement already satisfied: idna<4,>=2.5 in c:\\users\\astonlille789\\appdata\\local\\programs\\python\\python39\\lib\\site-packages (from requests) (3.2)\n",
      "Requirement already satisfied: charset-normalizer~=2.0.0 in c:\\users\\astonlille789\\appdata\\local\\programs\\python\\python39\\lib\\site-packages (from requests) (2.0.4)\n",
      "Note: you may need to restart the kernel to use updated packages.\n"
     ]
    },
    {
     "name": "stderr",
     "output_type": "stream",
     "text": [
      "WARNING: You are using pip version 21.2.3; however, version 21.3 is available.\n",
      "You should consider upgrading via the 'C:\\Users\\AstonLille789\\AppData\\Local\\Programs\\Python\\Python39\\python.exe -m pip install --upgrade pip' command.\n"
     ]
    }
   ],
   "source": [
    "pip install requests"
   ]
  },
  {
   "cell_type": "code",
   "execution_count": 20,
   "metadata": {},
   "outputs": [],
   "source": [
    "import pandas as pd\n",
    "import requests\n",
    "from bs4 import BeautifulSoup\n",
    "import numpy as np\n",
    "import re\n",
    "import sys, getopt\n",
    "import csv"
   ]
  },
  {
   "cell_type": "code",
   "execution_count": 21,
   "metadata": {},
   "outputs": [
    {
     "name": "stdout",
     "output_type": "stream",
     "text": [
      "                    Joueur\n",
      "0             Jamal_Aabbou\n",
      "1             Rayane_Aabid\n",
      "2            Mohamed_Aakib\n",
      "3            Ismael_Aaneba\n",
      "4      Patrick_van_Aanholt\n",
      "...                    ...\n",
      "27096         Oliwier_Zych\n",
      "27097         Marcel_Zylla\n",
      "27098           Paweł_Żyra\n",
      "27099         Mateusz_Żyro\n",
      "27100          Michał_Żyro\n",
      "\n",
      "[27101 rows x 1 columns]\n"
     ]
    }
   ],
   "source": [
    "dataset=pd.read_csv(\"Joueur.csv\")\n",
    "dataset.head\n",
    "del dataset[\"id\"]\n",
    "dataset['Joueur'] = dataset['Joueur'].str.replace(' ','_')\n",
    "print(dataset)\n"
   ]
  },
  {
   "cell_type": "code",
   "execution_count": 22,
   "metadata": {},
   "outputs": [
    {
     "name": "stdout",
     "output_type": "stream",
     "text": [
      "18838\n"
     ]
    },
    {
     "data": {
      "text/html": [
       "<div>\n",
       "<style scoped>\n",
       "    .dataframe tbody tr th:only-of-type {\n",
       "        vertical-align: middle;\n",
       "    }\n",
       "\n",
       "    .dataframe tbody tr th {\n",
       "        vertical-align: top;\n",
       "    }\n",
       "\n",
       "    .dataframe thead th {\n",
       "        text-align: right;\n",
       "    }\n",
       "</style>\n",
       "<table border=\"1\" class=\"dataframe\">\n",
       "  <thead>\n",
       "    <tr style=\"text-align: right;\">\n",
       "      <th></th>\n",
       "      <th>nomJoueur</th>\n",
       "      <th>Biographie</th>\n",
       "      <th>url_de_image</th>\n",
       "    </tr>\n",
       "  </thead>\n",
       "  <tbody>\n",
       "    <tr>\n",
       "      <th>0</th>\n",
       "      <td>Patrick_van_Aanholt</td>\n",
       "      <td>\\nPatrick van Aanholt, né le 29 août 1990 à Bo...</td>\n",
       "      <td>//upload.wikimedia.org/wikipedia/commons/thumb...</td>\n",
       "    </tr>\n",
       "    <tr>\n",
       "      <th>1</th>\n",
       "      <td>Max_Aarons</td>\n",
       "      <td>\\nMax Aarons, né le 4 janvier 2000 à Hammersmi...</td>\n",
       "      <td>//upload.wikimedia.org/wikipedia/commons/thumb...</td>\n",
       "    </tr>\n",
       "    <tr>\n",
       "      <th>2</th>\n",
       "      <td>Rolando_Aarons</td>\n",
       "      <td>\\nRolando Aarons, né le 16 novembre 1995 à Kin...</td>\n",
       "      <td>Inconnue</td>\n",
       "    </tr>\n",
       "    <tr>\n",
       "      <th>3</th>\n",
       "      <td>Brenden_Aaronson</td>\n",
       "      <td>\\nBrenden Aaronson, né le 22 octobre 2000 à Me...</td>\n",
       "      <td>//upload.wikimedia.org/wikipedia/commons/thumb...</td>\n",
       "    </tr>\n",
       "    <tr>\n",
       "      <th>4</th>\n",
       "      <td>Liel_Abada</td>\n",
       "      <td>\\nLiel Abada (en hébreu : ליאל עבדה), né le 3 ...</td>\n",
       "      <td>//upload.wikimedia.org/wikipedia/commons/5/54/...</td>\n",
       "    </tr>\n",
       "    <tr>\n",
       "      <th>...</th>\n",
       "      <td>...</td>\n",
       "      <td>...</td>\n",
       "      <td>...</td>\n",
       "    </tr>\n",
       "    <tr>\n",
       "      <th>8258</th>\n",
       "      <td>Peter_Žulj</td>\n",
       "      <td>\\nPeter Žulj, né le 9 juin 1993 à Wels en Autr...</td>\n",
       "      <td>Inconnue</td>\n",
       "    </tr>\n",
       "    <tr>\n",
       "      <th>8259</th>\n",
       "      <td>Maciej_Żurawski</td>\n",
       "      <td>\\nMaciej « Magic » Stanisław Żurawski, né le 1...</td>\n",
       "      <td>//upload.wikimedia.org/wikipedia/commons/thumb...</td>\n",
       "    </tr>\n",
       "    <tr>\n",
       "      <th>8260</th>\n",
       "      <td>Szymon_Żurkowski</td>\n",
       "      <td>\\nSzymon Żurkowski, né le 25 septembre 1997 en...</td>\n",
       "      <td>Inconnue</td>\n",
       "    </tr>\n",
       "    <tr>\n",
       "      <th>8261</th>\n",
       "      <td>Themba_Zwane</td>\n",
       "      <td>\\nThemba Zwane, né le 3 août 1989 à Tembisa en...</td>\n",
       "      <td>Inconnue</td>\n",
       "    </tr>\n",
       "    <tr>\n",
       "      <th>8262</th>\n",
       "      <td>Michał_Żyro</td>\n",
       "      <td>\\nMichał Żyro, né le 20 septembre 1992 à Varso...</td>\n",
       "      <td>//upload.wikimedia.org/wikipedia/commons/thumb...</td>\n",
       "    </tr>\n",
       "  </tbody>\n",
       "</table>\n",
       "<p>8263 rows × 3 columns</p>\n",
       "</div>"
      ],
      "text/plain": [
       "                nomJoueur                                         Biographie  \\\n",
       "0     Patrick_van_Aanholt  \\nPatrick van Aanholt, né le 29 août 1990 à Bo...   \n",
       "1              Max_Aarons  \\nMax Aarons, né le 4 janvier 2000 à Hammersmi...   \n",
       "2          Rolando_Aarons  \\nRolando Aarons, né le 16 novembre 1995 à Kin...   \n",
       "3        Brenden_Aaronson  \\nBrenden Aaronson, né le 22 octobre 2000 à Me...   \n",
       "4              Liel_Abada  \\nLiel Abada (en hébreu : ליאל עבדה), né le 3 ...   \n",
       "...                   ...                                                ...   \n",
       "8258           Peter_Žulj  \\nPeter Žulj, né le 9 juin 1993 à Wels en Autr...   \n",
       "8259      Maciej_Żurawski  \\nMaciej « Magic » Stanisław Żurawski, né le 1...   \n",
       "8260     Szymon_Żurkowski  \\nSzymon Żurkowski, né le 25 septembre 1997 en...   \n",
       "8261         Themba_Zwane  \\nThemba Zwane, né le 3 août 1989 à Tembisa en...   \n",
       "8262          Michał_Żyro  \\nMichał Żyro, né le 20 septembre 1992 à Varso...   \n",
       "\n",
       "                                           url_de_image  \n",
       "0     //upload.wikimedia.org/wikipedia/commons/thumb...  \n",
       "1     //upload.wikimedia.org/wikipedia/commons/thumb...  \n",
       "2                                              Inconnue  \n",
       "3     //upload.wikimedia.org/wikipedia/commons/thumb...  \n",
       "4     //upload.wikimedia.org/wikipedia/commons/5/54/...  \n",
       "...                                                 ...  \n",
       "8258                                           Inconnue  \n",
       "8259  //upload.wikimedia.org/wikipedia/commons/thumb...  \n",
       "8260                                           Inconnue  \n",
       "8261                                           Inconnue  \n",
       "8262  //upload.wikimedia.org/wikipedia/commons/thumb...  \n",
       "\n",
       "[8263 rows x 3 columns]"
      ]
     },
     "execution_count": 22,
     "metadata": {},
     "output_type": "execute_result"
    }
   ],
   "source": [
    "nomJoueur=[]\n",
    "img=[]\n",
    "bioConcat=[]\n",
    "cpt=0\n",
    "\n",
    "for i in dataset['Joueur']:\n",
    "    bio = []\n",
    "    \n",
    "    res = requests.get(\"https://fr.wikipedia.org/wiki/\"+str(i)+\"\")\n",
    "    comm = re.compile(\"<!--|-->\")\n",
    "    soup = BeautifulSoup(comm.sub(\"\", res.text), \"html.parser\")\n",
    "    all_ps = soup.find(\"div\", class_=\"mw-parser-output\")\n",
    "    \n",
    "    try:\n",
    "    \n",
    "        paragraphs = all_ps.find_all(\"p\")\n",
    "        urlimage = all_ps.find(\"a\", class_=\"image\")\n",
    "        image = urlimage.find(\"img\").attrs[\"src\"]\n",
    "        \n",
    "       \n",
    "    except AttributeError:\n",
    "        cpt=cpt+1\n",
    "        continue\n",
    "\n",
    "    for paragraph in paragraphs: \n",
    "        if re.search(\"bandeau-titre\", str(paragraph)) or re.search(\"Vous pouvez partager vos connaissances en l’améliorant\", str(paragraph)) or re.search(\"mw-disambig\", str(paragraph)) or re.search(\"Sur les autres projets Wikimedia :\",str(paragraph)) or re.search(\"Pour les articles homonymes\" ,str(paragraph)):\n",
    "            \n",
    "            continue\n",
    "        else :\n",
    "            bio.append(paragraph.text)\n",
    "\n",
    "   \n",
    "    if re.search(\".png\",str(image)):\n",
    "        image = \"Inconnue\"\n",
    "\n",
    "    nomJoueur.append(i)\n",
    "    bioConcat.append(\"\".join(bio))\n",
    "    img.append(image)\n",
    "\n",
    "    \n",
    "\n",
    "\n",
    "print(cpt)\n",
    "df=pd.DataFrame({\"nomJoueur\":nomJoueur, \"Biographie\":bioConcat,\"url_de_image\":img})\n",
    "\n",
    "df\n"
   ]
  },
  {
   "cell_type": "code",
   "execution_count": 23,
   "metadata": {},
   "outputs": [],
   "source": [
    "df.to_csv(\"wikibiojouer.csv\", index = False)"
   ]
  },
  {
   "cell_type": "code",
   "execution_count": 24,
   "metadata": {},
   "outputs": [],
   "source": [
    "# Fonction poid d'une data frame\n",
    "\n",
    "def mem_usage(pandas_obj):\n",
    "\n",
    "    if isinstance(pandas_obj,pd.DataFrame):\n",
    "\n",
    "        usage_b = pandas_obj.memory_usage(deep=True).sum()\n",
    "\n",
    "    else:\n",
    "\n",
    "        usage_b = pandas_obj.memory_usage(deep=True)    \n",
    "\n",
    "    usage_mb = usage_b / 1024 ** 2 # convertir les bytes en megabytes\n",
    "\n",
    "    return \"{:03.2f} MB\".format(usage_mb) # afficher sous format nombre (min 3 chiffres) et une précision de deux décimales"
   ]
  },
  {
   "cell_type": "code",
   "execution_count": 25,
   "metadata": {},
   "outputs": [
    {
     "data": {
      "text/plain": [
       "'30.20 MB'"
      ]
     },
     "execution_count": 25,
     "metadata": {},
     "output_type": "execute_result"
    }
   ],
   "source": [
    "mem_usage(df)"
   ]
  },
  {
   "cell_type": "code",
   "execution_count": 26,
   "metadata": {},
   "outputs": [
    {
     "name": "stdout",
     "output_type": "stream",
     "text": [
      "                nomJoueur                                         Biographie  \\\n",
      "0     Patrick_van_Aanholt  \\nPatrick van Aanholt, né le 29 août 1990 à Bo...   \n",
      "1              Max_Aarons  \\nMax Aarons, né le 4 janvier 2000 à Hammersmi...   \n",
      "2          Rolando_Aarons  \\nRolando Aarons, né le 16 novembre 1995 à Kin...   \n",
      "3        Brenden_Aaronson  \\nBrenden Aaronson, né le 22 octobre 2000 à Me...   \n",
      "4              Liel_Abada  \\nLiel Abada (en hébreu : ליאל עבדה), né le 3 ...   \n",
      "...                   ...                                                ...   \n",
      "8258           Peter_Žulj  \\nPeter Žulj, né le 9 juin 1993 à Wels en Autr...   \n",
      "8259      Maciej_Żurawski  \\nMaciej « Magic » Stanisław Żurawski, né le 1...   \n",
      "8260     Szymon_Żurkowski  \\nSzymon Żurkowski, né le 25 septembre 1997 en...   \n",
      "8261         Themba_Zwane  \\nThemba Zwane, né le 3 août 1989 à Tembisa en...   \n",
      "8262          Michał_Żyro  \\nMichał Żyro, né le 20 septembre 1992 à Varso...   \n",
      "\n",
      "                                           url_de_image  \n",
      "0     //upload.wikimedia.org/wikipedia/commons/thumb...  \n",
      "1     //upload.wikimedia.org/wikipedia/commons/thumb...  \n",
      "2                                              Inconnue  \n",
      "3     //upload.wikimedia.org/wikipedia/commons/thumb...  \n",
      "4     //upload.wikimedia.org/wikipedia/commons/5/54/...  \n",
      "...                                                 ...  \n",
      "8258                                           Inconnue  \n",
      "8259  //upload.wikimedia.org/wikipedia/commons/thumb...  \n",
      "8260                                           Inconnue  \n",
      "8261                                           Inconnue  \n",
      "8262  //upload.wikimedia.org/wikipedia/commons/thumb...  \n",
      "\n",
      "[8263 rows x 3 columns]\n"
     ]
    }
   ],
   "source": [
    "print(df)"
   ]
  },
  {
   "cell_type": "code",
   "execution_count": null,
   "metadata": {},
   "outputs": [],
   "source": []
  },
  {
   "cell_type": "code",
   "execution_count": null,
   "metadata": {},
   "outputs": [],
   "source": []
  }
 ],
 "metadata": {
  "interpreter": {
   "hash": "a7287743b22f52dc1c063c1ccff8a8fc8a50d30b0737b7296d13828aec1a3b0c"
  },
  "kernelspec": {
   "display_name": "Python 3.9.7 64-bit",
   "name": "python3"
  },
  "language_info": {
   "codemirror_mode": {
    "name": "ipython",
    "version": 3
   },
   "file_extension": ".py",
   "mimetype": "text/x-python",
   "name": "python",
   "nbconvert_exporter": "python",
   "pygments_lexer": "ipython3",
   "version": "3.9.7"
  },
  "orig_nbformat": 4
 },
 "nbformat": 4,
 "nbformat_minor": 2
}

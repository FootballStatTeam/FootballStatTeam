{
 "cells": [
  {
   "cell_type": "markdown",
   "metadata": {},
   "source": [
    "# SCRAP WORLD CUP TEAM STATS "
   ]
  },
  {
   "cell_type": "markdown",
   "metadata": {},
   "source": [
    "##### SEASON - PERFORMANCE TEAM (GENERAL)- TOP TEAM SCORER #####"
   ]
  },
  {
   "cell_type": "markdown",
   "metadata": {},
   "source": [
    "##### SAVED IN WorldCupResults_AllTeam FOLDER #####"
   ]
  },
  {
   "cell_type": "code",
   "execution_count": 1,
   "metadata": {},
   "outputs": [],
   "source": [
    "import requests as rq\n",
    "from bs4 import BeautifulSoup as bs\n",
    "import pandas as pd\n",
    "import csv\n",
    "import time\n",
    "\n",
    "DOMAIN=\"https://fbref.com\"\n",
    "URL = 'https://fbref.com/en/countries/'\n",
    "\n",
    "response = rq.get(URL)\n",
    "\n",
    "def get_soup(url):\n",
    "    return bs(rq.get(url).text,\"html.parser\")\n",
    "\n",
    "soup=get_soup(URL)\n"
   ]
  },
  {
   "cell_type": "code",
   "execution_count": 2,
   "metadata": {},
   "outputs": [],
   "source": [
    "def findtableworlcupmen(link):\n",
    "    if 'href' in link.attrs and link.text=='Men': #just Men\n",
    "        #print(str(DOMAIN+link.attrs['href'])+\"\\n\")\n",
    "        URLmen=DOMAIN+link.attrs['href']\n",
    "        #go to this page\n",
    "        response = rq.get(URLmen)\n",
    "        #print(URLmen)\n",
    "        soup=get_soup(URLmen) #page html du pays\n",
    "        table=soup.find('table',{'id':'comps_cup_1'})\n",
    "        return table"
   ]
  },
  {
   "cell_type": "code",
   "execution_count": 3,
   "metadata": {},
   "outputs": [],
   "source": [
    "def findcountryandlinks(tr):\n",
    "    if tr.find('strong'):\n",
    "        country=tr.find('strong') #pays a enregistrer dans pandas\n",
    "        country=country.text\n",
    "        tds=tr.find('td',{\"data-stat\":\"national_teams\"})\n",
    "        #print(tds)\n",
    "        links=tds.find_all('a')\n",
    "        return country,links\n",
    "    else:\n",
    "        return None"
   ]
  },
  {
   "cell_type": "code",
   "execution_count": 4,
   "metadata": {},
   "outputs": [],
   "source": [
    "def savetablecsv(country,table):\n",
    "    rows = table.find_all(\"tr\")\n",
    "    file= \"WorldCupResults_AllTeam/\" + country + \"_WorldCupTeamStats.csv\"\n",
    "    with open(file, \"wt+\", encoding=\"utf-8\",newline=\"\") as f:\n",
    "        writer = csv.writer(f)\n",
    "        for row in rows:\n",
    "            csv_row = []\n",
    "            for cell in row.findAll([\"td\", \"th\"]):\n",
    "                csv_row.append(cell.get_text())\n",
    "            writer.writerow(csv_row)"
   ]
  },
  {
   "cell_type": "code",
   "execution_count": 5,
   "metadata": {},
   "outputs": [],
   "source": [
    "def iteratelines(trs):\n",
    "    for tr in trs:\n",
    "        #nom pays\n",
    "        if findcountryandlinks(tr)!=None:\n",
    "            country,links=findcountryandlinks(tr)\n",
    "            #trouver liens joueurs\n",
    "            if links!=None:\n",
    "                for link in links:\n",
    "                    table=findtableworlcupmen(link) #trouver liens hommes\n",
    "                    if table!=None:\n",
    "                        savetablecsv(country,table)"
   ]
  },
  {
   "cell_type": "code",
   "execution_count": 6,
   "metadata": {},
   "outputs": [],
   "source": [
    "trs=soup.find_all('tr')\n",
    "iteratelines(trs)"
   ]
  }
 ],
 "metadata": {
  "kernelspec": {
   "display_name": "Python 3",
   "language": "python",
   "name": "python3"
  },
  "language_info": {
   "codemirror_mode": {
    "name": "ipython",
    "version": 3
   },
   "file_extension": ".py",
   "mimetype": "text/x-python",
   "name": "python",
   "nbconvert_exporter": "python",
   "pygments_lexer": "ipython3",
   "version": "3.8.5"
  }
 },
 "nbformat": 4,
 "nbformat_minor": 4
}
